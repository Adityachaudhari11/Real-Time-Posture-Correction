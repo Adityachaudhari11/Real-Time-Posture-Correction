{
 "cells": [
  {
   "cell_type": "code",
   "execution_count": 1,
   "id": "69ebfe32",
   "metadata": {},
   "outputs": [],
   "source": [
    "\n",
    "from PIL import ImageFile\n",
    "ImageFile.LOAD_TRUNCATED_IMAGES = True\n",
    "\n",
    "import tensorflow as tf\n",
    "from tensorflow.keras.preprocessing.image import ImageDataGenerator\n",
    "from tensorflow.keras import layers, models\n",
    "import matplotlib.pyplot as plt\n",
    "import numpy as np\n",
    "import os\n"
   ]
  },
  {
   "cell_type": "code",
   "execution_count": 2,
   "id": "80fcee65",
   "metadata": {},
   "outputs": [],
   "source": [
    "from PIL import Image\n",
    "import os\n",
    "\n",
    "dataset_dir = \"DATASET/TRAIN\"\n",
    "def remove_corrupted_images(directory):\n",
    "    for root, dirs, files in os.walk(directory):\n",
    "        for file in files:\n",
    "            if file.lower().endswith(('jpg', 'jpeg', 'png')):\n",
    "                try:\n",
    "                    img_path = os.path.join(root, file)\n",
    "                    img = Image.open(img_path)\n",
    "                    img.verify()\n",
    "                except Exception as e:\n",
    "                    print(f\"❌ Removing corrupted: {img_path}\")\n",
    "                    os.remove(img_path)\n",
    "\n",
    "remove_corrupted_images(\"DATASET/TRAIN\")\n",
    "remove_corrupted_images(\"DATASET/TEST\")\n"
   ]
  },
  {
   "cell_type": "code",
   "execution_count": 3,
   "id": "9d1ba89b",
   "metadata": {},
   "outputs": [],
   "source": [
    "\n",
    "train_dir = \"DATASET/TRAIN\"\n",
    "test_dir = \"DATASET/TEST\"\n",
    "\n",
    "\n"
   ]
  },
  {
   "cell_type": "code",
   "execution_count": 4,
   "id": "6d180db2",
   "metadata": {},
   "outputs": [
    {
     "name": "stdout",
     "output_type": "stream",
     "text": [
      "Found 866 images belonging to 5 classes.\n",
      "Found 215 images belonging to 5 classes.\n",
      "Found 470 images belonging to 5 classes.\n"
     ]
    }
   ],
   "source": [
    "\n",
    "IMG_SIZE = (150, 150)\n",
    "BATCH_SIZE = 32\n",
    "\n",
    "train_datagen = ImageDataGenerator(\n",
    "    rescale=1./255,\n",
    "    rotation_range=20,\n",
    "    width_shift_range=0.1,\n",
    "    height_shift_range=0.1,\n",
    "    shear_range=0.1,\n",
    "    zoom_range=0.1,\n",
    "    horizontal_flip=True,\n",
    "    validation_split=0.2\n",
    ")\n",
    "\n",
    "train_generator = train_datagen.flow_from_directory(\n",
    "    train_dir,\n",
    "    target_size=IMG_SIZE,\n",
    "    batch_size=BATCH_SIZE,\n",
    "    class_mode='categorical',\n",
    "    subset='training'\n",
    ")\n",
    "\n",
    "val_generator = train_datagen.flow_from_directory(\n",
    "    train_dir,\n",
    "    target_size=IMG_SIZE,\n",
    "    batch_size=BATCH_SIZE,\n",
    "    class_mode='categorical',\n",
    "    subset='validation'\n",
    ")\n",
    "\n",
    "test_datagen = ImageDataGenerator(rescale=1./255)\n",
    "\n",
    "test_generator = test_datagen.flow_from_directory(\n",
    "    test_dir,\n",
    "    target_size=IMG_SIZE,\n",
    "    batch_size=BATCH_SIZE,\n",
    "    class_mode='categorical',\n",
    "    shuffle=False\n",
    ")\n"
   ]
  },
  {
   "cell_type": "code",
   "execution_count": 5,
   "id": "9aaf9d6f",
   "metadata": {},
   "outputs": [
    {
     "name": "stdout",
     "output_type": "stream",
     "text": [
      "Model: \"sequential\"\n",
      "_________________________________________________________________\n",
      " Layer (type)                Output Shape              Param #   \n",
      "=================================================================\n",
      " conv2d (Conv2D)             (None, 148, 148, 32)      896       \n",
      "                                                                 \n",
      " max_pooling2d (MaxPooling2D  (None, 74, 74, 32)       0         \n",
      " )                                                               \n",
      "                                                                 \n",
      " conv2d_1 (Conv2D)           (None, 72, 72, 64)        18496     \n",
      "                                                                 \n",
      " max_pooling2d_1 (MaxPooling  (None, 36, 36, 64)       0         \n",
      " 2D)                                                             \n",
      "                                                                 \n",
      " conv2d_2 (Conv2D)           (None, 34, 34, 128)       73856     \n",
      "                                                                 \n",
      " max_pooling2d_2 (MaxPooling  (None, 17, 17, 128)      0         \n",
      " 2D)                                                             \n",
      "                                                                 \n",
      " flatten (Flatten)           (None, 36992)             0         \n",
      "                                                                 \n",
      " dense (Dense)               (None, 128)               4735104   \n",
      "                                                                 \n",
      " dropout (Dropout)           (None, 128)               0         \n",
      "                                                                 \n",
      " dense_1 (Dense)             (None, 5)                 645       \n",
      "                                                                 \n",
      "=================================================================\n",
      "Total params: 4,828,997\n",
      "Trainable params: 4,828,997\n",
      "Non-trainable params: 0\n",
      "_________________________________________________________________\n"
     ]
    }
   ],
   "source": [
    "# ============================================\n",
    "# 🧠 STEP 4: BUILD THE CNN MODEL\n",
    "# ============================================\n",
    "model = models.Sequential([\n",
    "    layers.Conv2D(32, (3, 3), activation='relu', input_shape=(150, 150, 3)),\n",
    "    layers.MaxPooling2D(2, 2),\n",
    "    \n",
    "    layers.Conv2D(64, (3, 3), activation='relu'),\n",
    "    layers.MaxPooling2D(2, 2),\n",
    "    \n",
    "    layers.Conv2D(128, (3, 3), activation='relu'),\n",
    "    layers.MaxPooling2D(2, 2),\n",
    "    \n",
    "    layers.Flatten(),\n",
    "    layers.Dense(128, activation='relu'),\n",
    "    layers.Dropout(0.3),\n",
    "    layers.Dense(5, activation='softmax')  # 5 classes\n",
    "])\n",
    "\n",
    "model.compile(optimizer='adam',\n",
    "              loss='categorical_crossentropy',\n",
    "              metrics=['accuracy'])\n",
    "\n",
    "model.summary()\n"
   ]
  },
  {
   "cell_type": "code",
   "execution_count": 6,
   "id": "0d339118",
   "metadata": {},
   "outputs": [
    {
     "name": "stdout",
     "output_type": "stream",
     "text": [
      "Epoch 1/20\n"
     ]
    },
    {
     "name": "stderr",
     "output_type": "stream",
     "text": [
      "C:\\Users\\Aditya Chaudhari\\AppData\\Roaming\\Python\\Python39\\site-packages\\PIL\\Image.py:1045: UserWarning: Palette images with Transparency expressed in bytes should be converted to RGBA images\n",
      "  warnings.warn(\n"
     ]
    },
    {
     "name": "stdout",
     "output_type": "stream",
     "text": [
      "28/28 [==============================] - 14s 356ms/step - loss: 1.6718 - accuracy: 0.2575 - val_loss: 1.5905 - val_accuracy: 0.2837\n",
      "Epoch 2/20\n",
      "28/28 [==============================] - 10s 349ms/step - loss: 1.5904 - accuracy: 0.2552 - val_loss: 1.5486 - val_accuracy: 0.3349\n",
      "Epoch 3/20\n",
      "28/28 [==============================] - 9s 318ms/step - loss: 1.5694 - accuracy: 0.3025 - val_loss: 1.5506 - val_accuracy: 0.3488\n",
      "Epoch 4/20\n",
      "28/28 [==============================] - 9s 316ms/step - loss: 1.4888 - accuracy: 0.3649 - val_loss: 1.3618 - val_accuracy: 0.4558\n",
      "Epoch 5/20\n",
      "28/28 [==============================] - 9s 311ms/step - loss: 1.3974 - accuracy: 0.4261 - val_loss: 1.3485 - val_accuracy: 0.4884\n",
      "Epoch 6/20\n",
      "28/28 [==============================] - 9s 314ms/step - loss: 1.3587 - accuracy: 0.4550 - val_loss: 1.2844 - val_accuracy: 0.5302\n",
      "Epoch 7/20\n",
      "28/28 [==============================] - 9s 305ms/step - loss: 1.3187 - accuracy: 0.4815 - val_loss: 1.2151 - val_accuracy: 0.5023\n",
      "Epoch 8/20\n",
      "28/28 [==============================] - 9s 310ms/step - loss: 1.2784 - accuracy: 0.4804 - val_loss: 1.1908 - val_accuracy: 0.5721\n",
      "Epoch 9/20\n",
      "28/28 [==============================] - 9s 307ms/step - loss: 1.2551 - accuracy: 0.5127 - val_loss: 1.1421 - val_accuracy: 0.4930\n",
      "Epoch 10/20\n",
      "28/28 [==============================] - 9s 317ms/step - loss: 1.1981 - accuracy: 0.5358 - val_loss: 1.0862 - val_accuracy: 0.5442\n",
      "Epoch 11/20\n",
      "28/28 [==============================] - 9s 312ms/step - loss: 1.1576 - accuracy: 0.5462 - val_loss: 1.0182 - val_accuracy: 0.6140\n",
      "Epoch 12/20\n",
      "28/28 [==============================] - 9s 305ms/step - loss: 1.0969 - accuracy: 0.5508 - val_loss: 1.0249 - val_accuracy: 0.5814\n",
      "Epoch 13/20\n",
      "28/28 [==============================] - 9s 313ms/step - loss: 1.0257 - accuracy: 0.5878 - val_loss: 0.9987 - val_accuracy: 0.6279\n",
      "Epoch 14/20\n",
      "28/28 [==============================] - 9s 324ms/step - loss: 1.0687 - accuracy: 0.5912 - val_loss: 0.9372 - val_accuracy: 0.6605\n",
      "Epoch 15/20\n",
      "28/28 [==============================] - 9s 330ms/step - loss: 0.9967 - accuracy: 0.6155 - val_loss: 1.0044 - val_accuracy: 0.6326\n",
      "Epoch 16/20\n",
      "28/28 [==============================] - 9s 328ms/step - loss: 0.9918 - accuracy: 0.6351 - val_loss: 0.8459 - val_accuracy: 0.6558\n",
      "Epoch 17/20\n",
      "28/28 [==============================] - 9s 323ms/step - loss: 0.8921 - accuracy: 0.6663 - val_loss: 0.8141 - val_accuracy: 0.7023\n",
      "Epoch 18/20\n",
      "28/28 [==============================] - 9s 320ms/step - loss: 0.9030 - accuracy: 0.6293 - val_loss: 0.7640 - val_accuracy: 0.7302\n",
      "Epoch 19/20\n",
      "28/28 [==============================] - 9s 313ms/step - loss: 0.9257 - accuracy: 0.6640 - val_loss: 0.8666 - val_accuracy: 0.6651\n",
      "Epoch 20/20\n",
      "28/28 [==============================] - 9s 314ms/step - loss: 0.8806 - accuracy: 0.6605 - val_loss: 0.9982 - val_accuracy: 0.6558\n"
     ]
    }
   ],
   "source": [
    "# ============================================\n",
    "# 🚀 STEP 5: TRAIN THE MODEL\n",
    "# ============================================\n",
    "EPOCHS = 20\n",
    "\n",
    "history = model.fit(\n",
    "    train_generator,\n",
    "    validation_data=val_generator,\n",
    "    epochs=EPOCHS\n",
    ")\n"
   ]
  },
  {
   "cell_type": "code",
   "execution_count": 7,
   "id": "36205d68",
   "metadata": {},
   "outputs": [
    {
     "data": {
      "image/png": "[encoded data removed]",
      "text/plain": [
       "<Figure size 1000x400 with 2 Axes>"
      ]
     },
     "metadata": {},
     "output_type": "display_data"
    }
   ],
   "source": [
    "# ============================================\n",
    "# 📈 STEP 6: VISUALIZE TRAINING PERFORMANCE\n",
    "# ============================================\n",
    "plt.figure(figsize=(10,4))\n",
    "\n",
    "plt.subplot(1,2,1)\n",
    "plt.plot(history.history['accuracy'], label='Train Acc')\n",
    "plt.plot(history.history['val_accuracy'], label='Val Acc')\n",
    "plt.legend()\n",
    "plt.title(\"Accuracy\")\n",
    "\n",
    "plt.subplot(1,2,2)\n",
    "plt.plot(history.history['loss'], label='Train Loss')\n",
    "plt.plot(history.history['val_loss'], label='Val Loss')\n",
    "plt.legend()\n",
    "plt.title(\"Loss\")\n",
    "\n",
    "plt.show()\n"
   ]
  },
  {
   "cell_type": "code",
   "execution_count": 8,
   "id": "de50fdec",
   "metadata": {},
   "outputs": [
    {
     "name": "stdout",
     "output_type": "stream",
     "text": [
      "15/15 [==============================] - 6s 420ms/step - loss: 0.6983 - accuracy: 0.7681\n",
      "Test Accuracy: 76.81%\n"
     ]
    }
   ],
   "source": [
    "# ============================================\n",
    "# 🧪 STEP 7: EVALUATE ON TEST DATA\n",
    "# ============================================\n",
    "test_loss, test_acc = model.evaluate(test_generator)\n",
    "print(f\"Test Accuracy: {test_acc*100:.2f}%\")\n"
   ]
  },
  {
   "cell_type": "code",
   "execution_count": 9,
   "id": "27d82dc5",
   "metadata": {},
   "outputs": [],
   "source": [
    "# ============================================\n",
    "# 🔮 STEP 8: MAKE PREDICTIONS\n",
    "# ============================================\n",
    "labels = list(train_generator.class_indices.keys())\n",
    "\n",
    "from tensorflow.keras.preprocessing import image\n",
    "\n",
    "def predict_pose(img_path):\n",
    "    img = image.load_img(img_path, target_size=IMG_SIZE)\n",
    "    img_array = image.img_to_array(img) / 255.0\n",
    "    img_array = np.expand_dims(img_array, axis=0)\n",
    "    prediction = model.predict(img_array)\n",
    "    predicted_class = labels[np.argmax(prediction)]\n",
    "    confidence = np.max(prediction)\n",
    "    print(f\"Predicted Pose: {predicted_class} ({confidence*100:.2f}%)\")\n",
    "\n",
    "# Example:\n",
    "# predict_pose(\"/content/yoga/test/tree/xyz.jpg\")\n"
   ]
  },
  {
   "cell_type": "code",
   "execution_count": 10,
   "id": "3ff3fb67",
   "metadata": {},
   "outputs": [
    {
     "name": "stdout",
     "output_type": "stream",
     "text": [
      "✅ Model saved as yoga_pose_model.h5\n"
     ]
    }
   ],
   "source": [
    "# ============================================\n",
    "# 💾 STEP 9: SAVE MODEL\n",
    "# ============================================\n",
    "model.save(\"yoga_pose_model.h5\")\n",
    "print(\"✅ Model saved as yoga_pose_model.h5\")\n"
   ]
  },
  {
   "cell_type": "code",
   "execution_count": 11,
   "id": "70f821c7",
   "metadata": {},
   "outputs": [],
   "source": [
    "import numpy as np\n",
    "from tensorflow.keras.preprocessing import image\n",
    "import tensorflow as tf\n",
    "import os\n",
    "\n",
    "# Define the same class order as your training generator\n",
    "CLASS_NAMES = ['downdog', 'goddess', 'plank', 'tree', 'warrior']\n",
    "\n",
    "def predict_yoga_pose(model, img_path, img_size=(224, 224)):\n",
    "    \"\"\"\n",
    "    Predict the yoga pose for a single input image.\n",
    "    \n",
    "    Args:\n",
    "        model: Trained Keras model\n",
    "        img_path: Path to the input image\n",
    "        img_size: Tuple for resizing (same as used in training)\n",
    "        \n",
    "    Returns:\n",
    "        dict: { 'predicted_class': str, 'confidence': float, 'all_probabilities': dict }\n",
    "    \"\"\"\n",
    "    try:\n",
    "        # Load image\n",
    "        img = image.load_img(img_path, target_size=img_size)\n",
    "        img_array = image.img_to_array(img)\n",
    "        img_array = np.expand_dims(img_array, axis=0) / 255.0  # Normalize\n",
    "\n",
    "        # Predict\n",
    "        preds = model.predict(img_array)\n",
    "        pred_idx = np.argmax(preds[0])\n",
    "        pred_class = CLASS_NAMES[pred_idx]\n",
    "        confidence = float(np.max(preds[0]))\n",
    "\n",
    "        return {\n",
    "            'predicted_class': pred_class,\n",
    "            'confidence': round(confidence * 100, 2),\n",
    "            'all_probabilities': {CLASS_NAMES[i]: round(float(preds[0][i]), 4) for i in range(len(CLASS_NAMES))}\n",
    "        }\n",
    "\n",
    "    except Exception as e:\n",
    "        print(f\"❌ Error processing {img_path}: {e}\")\n",
    "        return None\n"
   ]
  },
  {
   "cell_type": "code",
   "execution_count": 13,
   "id": "c4d55815",
   "metadata": {},
   "outputs": [
    {
     "name": "stdout",
     "output_type": "stream",
     "text": [
      "1/1 [==============================] - 0s 67ms/step\n",
      "🧘 Predicted Pose: goddess\n",
      "🎯 Confidence: 34.21 %\n",
      "📊 All Probabilities: {'downdog': 0.1906, 'goddess': 0.3421, 'plank': 0.2914, 'tree': 0.052, 'warrior': 0.1239}\n"
     ]
    }
   ],
   "source": [
    "# Load your trained model\n",
    "model = tf.keras.models.load_model(\"yoga_pose_model.h5\")\n",
    "\n",
    "# Predict one test image\n",
    "result = predict_yoga_pose(model, \"WIN_20251018_12_48_59_Pro.jpg\", img_size=IMG_SIZE)\n",
    "\n",
    "print(\"🧘 Predicted Pose:\", result['predicted_class'])\n",
    "print(\"🎯 Confidence:\", result['confidence'], \"%\")\n",
    "print(\"📊 All Probabilities:\", result['all_probabilities'])\n"
   ]
  },
  {
   "cell_type": "code",
   "execution_count": null,
   "id": "d1654513",
   "metadata": {},
   "outputs": [],
   "source": []
  }
 ],
 "metadata": {
  "kernelspec": {
   "display_name": "tf-gpu",
   "language": "python",
   "name": "python3"
  },
  "language_info": {
   "codemirror_mode": {
    "name": "ipython",
    "version": 3
   },
   "file_extension": ".py",
   "mimetype": "text/x-python",
   "name": "python",
   "nbconvert_exporter": "python",
   "pygments_lexer": "ipython3",
   "version": "3.9.21"
  }
 },
 "nbformat": 4,
 "nbformat_minor": 5
}
